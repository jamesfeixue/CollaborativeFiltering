{
 "cells": [
  {
   "cell_type": "code",
   "execution_count": 1,
   "metadata": {
    "collapsed": true
   },
   "outputs": [],
   "source": [
    "#matrix factorization\n",
    "import pandas as pd\n",
    "import numpy as np\n",
    "import implicit as im\n",
    "from scipy.sparse import csr_matrix\n",
    "import random"
   ]
  },
  {
   "cell_type": "code",
   "execution_count": 2,
   "metadata": {
    "collapsed": true
   },
   "outputs": [],
   "source": [
    "#read data\n",
    "proc_dir = \"../data/processed\"\n",
    "\n",
    "customers = pd.read_csv(proc_dir+\"/customers.csv\")\n",
    "customers = customers['user']\n",
    "games = pd.read_csv(proc_dir+\"/games.csv\")\n",
    "games = games['game']\n",
    "hours = pd.read_csv(proc_dir+\"/hours.csv\")\n",
    "hours = hours[['userIndex', 'gameID', 'hours']]"
   ]
  },
  {
   "cell_type": "code",
   "execution_count": 83,
   "metadata": {},
   "outputs": [],
   "source": [
    "def getPopularSampleData(users, items, ratings, size, rseed=43):\n",
    "    #create list of popular items\n",
    "    ratings['userIndex'] = pd.to_numeric(ratings['userIndex'])\n",
    "    itemsGrouped = ratings.groupby('gameID', as_index=False).agg({\"hours\": \"count\"})\n",
    "    popularItems = itemsGrouped[itemsGrouped.hours > 50]\n",
    "    popularItems = popularItems['gameID']\n",
    "    random.seed(rseed)\n",
    "    randomSampleItems = map(int, random.sample(popularItems,size))\n",
    "    #get all users who rated this item\n",
    "    userRatedItems = ratings[ratings.gameID.isin(randomSampleItems)]\n",
    "    sampleUsers = map(int, userRatedItems['userIndex'].unique())\n",
    "    #return sample users and items\n",
    "    return sampleUsers, randomSampleItems, userRatedItems\n",
    "\n",
    "def getTrainTestData(ratings, percent=.2, rseed=43):\n",
    "    random.seed(rseed)\n",
    "    testCount = int(len(ratings)*percent)\n",
    "    testRows = random.sample(range(0,len(ratings)-1),testCount)\n",
    "    trainRatings = pd.DataFrame(columns=['userIndex','gameID','hours'])\n",
    "    testRatings = pd.DataFrame(columns=['userIndex','gameID','hours'])\n",
    "    ind=0\n",
    "    for index, row in ratings.iterrows():\n",
    "        if(ind in testRows):\n",
    "            testRatings = testRatings.append({'userIndex':row['userIndex'],\n",
    "                                              'gameID':row['gameID'],\n",
    "                                              'hours':row['hours']}, ignore_index=True)\n",
    "        else:\n",
    "            trainRatings = trainRatings.append({'userIndex':row['userIndex'],\n",
    "                                                'gameID':row['gameID'],\n",
    "                                                'hours':row['hours']}, ignore_index=True)\n",
    "        ind=ind+1\n",
    "    return trainRatings, testRatings\n",
    "\n",
    "def squaredError(users, items, R, testRatings):\n",
    "    error=0\n",
    "    for index, row in testRatings.iterrows():\n",
    "        error+=(R[users.index(row['userIndex'])][items.index(row['gameID'])]-row['hours'])**2\n",
    "    return error"
   ]
  },
  {
   "cell_type": "code",
   "execution_count": 84,
   "metadata": {},
   "outputs": [
    {
     "name": "stdout",
     "output_type": "stream",
     "text": [
      "train ratings: 7749\n",
      "test ratings: 1937\n"
     ]
    }
   ],
   "source": [
    "#get the random sample with designated size\n",
    "users, items, ratings = getPopularSampleData(customers, games, hours, 75, 43)\n",
    "#get train and test data\n",
    "trainRatings, testRatings = getTrainTestData(ratings)\n",
    "print 'train ratings:', len(trainRatings)\n",
    "print 'test ratings:', len(testRatings)"
   ]
  },
  {
   "cell_type": "code",
   "execution_count": 85,
   "metadata": {},
   "outputs": [
    {
     "name": "stdout",
     "output_type": "stream",
     "text": [
      "(75, 3270)\n"
     ]
    }
   ],
   "source": [
    "#create sparse train matrix games by customers with ratings - hours\n",
    "M=np.zeros((len(items),len(users)))\n",
    "\n",
    "for index, row in trainRatings.iterrows():\n",
    "    M[items.index(row['gameID'])][users.index(row['userIndex'])]=row['hours']\n",
    "\n",
    "M = csr_matrix(M)\n",
    "\n",
    "print M.shape"
   ]
  },
  {
   "cell_type": "code",
   "execution_count": 86,
   "metadata": {},
   "outputs": [
    {
     "name": "stderr",
     "output_type": "stream",
     "text": [
      "100%|██████████| 15.0/15 [00:00<00:00, 69.23it/s]\n"
     ]
    }
   ],
   "source": [
    "#matrix factorization model\n",
    "model = im.als.AlternatingLeastSquares(factors=15)\n",
    "model.fit(M)\n",
    "\n",
    "#factored U users and V items matrices\n",
    "U = model.user_factors\n",
    "V = model.item_factors\n",
    "\n",
    "#user_games = playM.T.tocsr()\n",
    "#recommendations = model.recommend(3, user_games,10)"
   ]
  },
  {
   "cell_type": "code",
   "execution_count": 87,
   "metadata": {},
   "outputs": [
    {
     "name": "stdout",
     "output_type": "stream",
     "text": [
      "U (3270, 15) , V (75, 15) , R (3270, 75)\n"
     ]
    }
   ],
   "source": [
    "#learned recommendations\n",
    "R = np.matmul(U,np.transpose(V))\n",
    "\n",
    "print 'U', U.shape, ',', 'V', V.shape, ',', 'R', R.shape"
   ]
  },
  {
   "cell_type": "code",
   "execution_count": 88,
   "metadata": {},
   "outputs": [
    {
     "name": "stdout",
     "output_type": "stream",
     "text": [
      "71282146.1954\n"
     ]
    }
   ],
   "source": [
    "#get accuracy from test data\n",
    "print squaredError(users, items, R, testRatings)\n"
   ]
  },
  {
   "cell_type": "code",
   "execution_count": null,
   "metadata": {
    "collapsed": true
   },
   "outputs": [],
   "source": []
  }
 ],
 "metadata": {
  "kernelspec": {
   "display_name": "Python 2",
   "language": "python",
   "name": "python2"
  },
  "language_info": {
   "codemirror_mode": {
    "name": "ipython",
    "version": 2
   },
   "file_extension": ".py",
   "mimetype": "text/x-python",
   "name": "python",
   "nbconvert_exporter": "python",
   "pygments_lexer": "ipython2",
   "version": "2.7.13"
  }
 },
 "nbformat": 4,
 "nbformat_minor": 2
}
