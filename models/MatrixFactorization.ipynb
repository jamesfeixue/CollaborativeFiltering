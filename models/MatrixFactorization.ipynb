{
 "cells": [
  {
   "cell_type": "code",
   "execution_count": 63,
   "metadata": {
    "collapsed": true
   },
   "outputs": [],
   "source": [
    "#matrix factorization\n",
    "import pandas as pd\n",
    "import numpy as np\n",
    "import implicit as im\n",
    "from scipy.sparse import csr_matrix\n",
    "import random"
   ]
  },
  {
   "cell_type": "code",
   "execution_count": 2,
   "metadata": {
    "collapsed": true
   },
   "outputs": [],
   "source": [
    "#read data\n",
    "proc_dir = \"../data/processed\"\n",
    "\n",
    "customers = pd.read_csv(proc_dir+\"/customers.csv\")\n",
    "customers = customers['user']\n",
    "games = pd.read_csv(proc_dir+\"/games.csv\")\n",
    "games = games['game']\n",
    "hours = pd.read_csv(proc_dir+\"/hours.csv\")\n",
    "hours = hours[['userIndex', 'gameID', 'hours']]"
   ]
  },
  {
   "cell_type": "code",
   "execution_count": 56,
   "metadata": {},
   "outputs": [],
   "source": [
    "random.seed(43)"
   ]
  },
  {
   "cell_type": "code",
   "execution_count": 87,
   "metadata": {},
   "outputs": [
    {
     "name": "stdout",
     "output_type": "stream",
     "text": [
      "users 2130\n",
      "games 75\n"
     ]
    }
   ],
   "source": [
    "userGameGroup = hours.groupby('userIndex', as_index=False).agg({\"hours\": \"count\"})\n",
    "goodUsers = userGameGroup[userGameGroup.hours > 5]\n",
    "userSample=[]\n",
    "for userI in goodUsers['userIndex']:\n",
    "    userSample.append(userI)\n",
    "print 'users', len(userSample)\n",
    "gameGroup = hours.groupby('gameID', as_index=False).agg({\"hours\": \"count\"})\n",
    "goodGames = gameGroup[gameGroup.hours > 150]\n",
    "gameSample=[]\n",
    "for gameI in goodGames['gameID']:\n",
    "    gameSample.append(gameI)\n",
    "print 'games', len(gameSample)"
   ]
  },
  {
   "cell_type": "code",
   "execution_count": null,
   "metadata": {
    "collapsed": true
   },
   "outputs": [],
   "source": [
    "# create hours matrix games by customer csr matrix\n",
    "playM=np.zeros((len(goodGames),len(goodUsers)))\n",
    "playM.fill(np.nan)\n",
    "\n",
    "for index, row in hours.iterrows():\n",
    "    if(row['userIndex'] in userSample and row['gameID'] in gameSample):\n",
    "        playM[gameSample.index(row['gameID'])][userSample.index(row['userIndex'])]=row['hours']\n",
    "print playM.shape"
   ]
  },
  {
   "cell_type": "code",
   "execution_count": 88,
   "metadata": {},
   "outputs": [
    {
     "name": "stderr",
     "output_type": "stream",
     "text": [
      "100%|██████████| 15.0/15 [00:00<00:00, 38.78it/s]"
     ]
    },
    {
     "name": "stdout",
     "output_type": "stream",
     "text": [
      "(2130, 15)\n",
      "(75, 15)\n"
     ]
    },
    {
     "name": "stderr",
     "output_type": "stream",
     "text": [
      "\n"
     ]
    }
   ],
   "source": [
    "playM = csr_matrix(playM)\n",
    "\n",
    "model = im.als.AlternatingLeastSquares(factors=15)\n",
    "\n",
    "model.fit(playM)\n",
    "\n",
    "user_games = playM.T.tocsr()\n",
    "recommendations = model.recommend(3, user_games,10)\n",
    "\n",
    "print model.user_factors.shape\n",
    "print model.item_factors.shape\n"
   ]
  },
  {
   "cell_type": "code",
   "execution_count": null,
   "metadata": {
    "collapsed": true
   },
   "outputs": [],
   "source": []
  }
 ],
 "metadata": {
  "kernelspec": {
   "display_name": "Python 2",
   "language": "python",
   "name": "python2"
  },
  "language_info": {
   "codemirror_mode": {
    "name": "ipython",
    "version": 2
   },
   "file_extension": ".py",
   "mimetype": "text/x-python",
   "name": "python",
   "nbconvert_exporter": "python",
   "pygments_lexer": "ipython2",
   "version": "2.7.13"
  }
 },
 "nbformat": 4,
 "nbformat_minor": 2
}
