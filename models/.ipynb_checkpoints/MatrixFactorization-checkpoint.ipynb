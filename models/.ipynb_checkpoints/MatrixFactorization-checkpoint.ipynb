{
 "cells": [
  {
   "cell_type": "code",
   "execution_count": 22,
   "metadata": {},
   "outputs": [],
   "source": [
    "#matrix factorization\n",
    "import pandas as pd\n",
    "import numpy as np\n",
    "import implicit as im\n",
    "import random"
   ]
  },
  {
   "cell_type": "code",
   "execution_count": 23,
   "metadata": {
    "collapsed": true
   },
   "outputs": [],
   "source": [
    "#read data\n",
    "proc_dir = \"../data/processed\"\n",
    "\n",
    "customers = pd.read_csv(proc_dir+\"/customers.csv\")\n",
    "customers = customers['user']\n",
    "games = pd.read_csv(proc_dir+\"/games.csv\")\n",
    "games = games['game']\n",
    "hours = pd.read_csv(proc_dir+\"/hours.csv\")\n",
    "hours = hours[['userIndex', 'gameID', 'hours']]"
   ]
  },
  {
   "cell_type": "code",
   "execution_count": 27,
   "metadata": {},
   "outputs": [
    {
     "name": "stdout",
     "output_type": "stream",
     "text": [
      "[3046, 2460, 999, 3298, 1390, 2407, 2717, 2152, 1062, 105, 2863, 3351, 2438, 1467, 2810, 873, 959, 3317, 2019, 733, 53, 2140, 2224, 2983, 2213, 1823, 1491, 1273, 2963, 463, 1633, 2310, 2012, 590, 1566, 3311, 3084, 330, 2148, 1398, 262, 1742, 755, 1212, 2599, 3526, 2179, 1538, 1502, 1370, 425, 1083, 1855, 2615, 613, 2644, 2230, 3003, 3451, 1939, 2954, 1720, 2323, 680, 3496, 975, 3067, 2401, 1184, 2202, 682, 1518, 996, 3179, 3226, 1127, 65, 384, 3338, 951, 2683, 1953, 1460, 0, 2947, 2636, 3229, 1986, 782, 2782]\n"
     ]
    }
   ],
   "source": [
    "rdCustIndex = random.sample(range(0,len(customers)-1),9000)\n",
    "rdGameID = random.sample(range(0,len(games)-1),90)"
   ]
  },
  {
   "cell_type": "code",
   "execution_count": 31,
   "metadata": {},
   "outputs": [
    {
     "name": "stdout",
     "output_type": "stream",
     "text": [
      "[[ nan  nan  nan ...,  nan  nan  nan]\n",
      " [ nan  nan  nan ...,  nan  nan  nan]\n",
      " [ nan  nan  nan ...,  nan  nan  nan]\n",
      " ..., \n",
      " [ nan  nan  nan ...,  nan  nan  nan]\n",
      " [ nan  nan  nan ...,  nan  nan  nan]\n",
      " [ nan  nan  nan ...,  nan  nan  nan]]\n"
     ]
    }
   ],
   "source": [
    "#create hours matrix customers by games\n",
    "M=np.zeros((len(rdCustIndex),len(rdGameID)))\n",
    "M.fill(np.nan)\n",
    "\n",
    "for index, row in hours.iterrows():\n",
    "    if(row['userIndex'] in rdCustIndex and row['gameID'] in rdGameID):\n",
    "        M[rdCustIndex.index(row['userIndex'])][rdGameID.index(row['gameID'])]\n",
    "print M"
   ]
  },
  {
   "cell_type": "code",
   "execution_count": null,
   "metadata": {
    "collapsed": true
   },
   "outputs": [],
   "source": []
  }
 ],
 "metadata": {
  "kernelspec": {
   "display_name": "Python 2",
   "language": "python",
   "name": "python2"
  },
  "language_info": {
   "codemirror_mode": {
    "name": "ipython",
    "version": 2
   },
   "file_extension": ".py",
   "mimetype": "text/x-python",
   "name": "python",
   "nbconvert_exporter": "python",
   "pygments_lexer": "ipython2",
   "version": "2.7.13"
  }
 },
 "nbformat": 4,
 "nbformat_minor": 2
}
