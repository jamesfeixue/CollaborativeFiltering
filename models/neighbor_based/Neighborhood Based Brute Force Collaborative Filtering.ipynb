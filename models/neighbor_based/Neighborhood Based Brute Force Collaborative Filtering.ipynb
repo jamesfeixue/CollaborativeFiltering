{
 "cells": [
  {
   "cell_type": "markdown",
   "metadata": {},
   "source": [
    "# Neighborhood Based Brute Force Collaborative Filtering"
   ]
  },
  {
   "cell_type": "code",
   "execution_count": 1,
   "metadata": {
    "collapsed": true
   },
   "outputs": [],
   "source": [
    "import numpy as np\n",
    "import math "
   ]
  },
  {
   "cell_type": "code",
   "execution_count": 6,
   "metadata": {
    "collapsed": true
   },
   "outputs": [],
   "source": [
    "class Similarity: \n",
    "        \n",
    "    def inner_product(self, u, v): \n",
    "        return np.dot(u, v)\n",
    "    \n",
    "    def cosine_similarity(self, u, v): \n",
    "        return (np.dot(u, v))/(math.sqrt(np.dot(u, u))*math.sqrt(np.dot(v, v)))\n",
    "    \n",
    "    def pearson_similarity(self, u, v): \n",
    "        mean_u = np.mean(u)\n",
    "        mean_v = np.mean(v)\n",
    "        \n",
    "        u_centered = u-mean_u \n",
    "        v_centered = v-mean_v \n",
    "        \n",
    "        return (np.dot(u_centered, v_centered))/(math.sqrt(np.dot(u_centered, u_centered))*math.sqrt(np.dot(v_centered, v_centered)))\n",
    "    "
   ]
  },
  {
   "cell_type": "code",
   "execution_count": 8,
   "metadata": {},
   "outputs": [
    {
     "data": {
      "text/plain": [
       "(0.8708635721768008, 16, 0.933138949631687)"
      ]
     },
     "execution_count": 8,
     "metadata": {},
     "output_type": "execute_result"
    }
   ],
   "source": [
    "\"\"\"Usage Example\"\"\"\n",
    "sim = Similarity() \n",
    "u = [0, 0, 2, 1, 4]\n",
    "v = [0, 0, 1, 2, 3]\n",
    "\n",
    "sim.pearson_similarity(u, v), sim.inner_product(u, v), sim.cosine_similarity(u, v)"
   ]
  },
  {
   "cell_type": "code",
   "execution_count": 13,
   "metadata": {
    "collapsed": true
   },
   "outputs": [],
   "source": [
    "class Neighbor_Similarities: \n",
    "    \n",
    "    def user_based(self, matrix): \n",
    "        (Y, X) = matrix.shape \n",
    "        result_matrix = np.empty((Y, Y))\n",
    "        #for each row in matrix, iterate through all the rows\n",
    "        \n",
    "        sim = Similarity() \n",
    "        for i, row_i in enumerate(matrix): \n",
    "            for j, row_j in enumerate(matrix): \n",
    "                score = sim.pearson_similarity(row_i, row_j)\n",
    "                result_matrix[i, j] = score \n",
    "                \n",
    "        return result_matrix "
   ]
  },
  {
   "cell_type": "code",
   "execution_count": 14,
   "metadata": {},
   "outputs": [
    {
     "data": {
      "text/plain": [
       "array([[1.        , 0.87086357],\n",
       "       [0.87086357, 1.        ]])"
      ]
     },
     "execution_count": 14,
     "metadata": {},
     "output_type": "execute_result"
    }
   ],
   "source": [
    "\"\"\"Usage Example\"\"\"\n",
    "\n",
    "matrix = np.array([u, v])\n",
    "\n",
    "NS = Neighbor_Similarities() \n",
    "NS.user_based(matrix)"
   ]
  },
  {
   "cell_type": "code",
   "execution_count": null,
   "metadata": {
    "collapsed": true
   },
   "outputs": [],
   "source": []
  }
 ],
 "metadata": {
  "kernelspec": {
   "display_name": "Python 3",
   "language": "python",
   "name": "python3"
  },
  "language_info": {
   "codemirror_mode": {
    "name": "ipython",
    "version": 3
   },
   "file_extension": ".py",
   "mimetype": "text/x-python",
   "name": "python",
   "nbconvert_exporter": "python",
   "pygments_lexer": "ipython3",
   "version": "3.6.3"
  }
 },
 "nbformat": 4,
 "nbformat_minor": 2
}
