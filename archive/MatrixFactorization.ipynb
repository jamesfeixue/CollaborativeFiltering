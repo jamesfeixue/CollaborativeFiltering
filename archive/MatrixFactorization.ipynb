{
 "cells": [
  {
   "cell_type": "code",
<<<<<<< HEAD
   "execution_count": 22,
=======
   "execution_count": 1,
>>>>>>> 32092bfa60a0fb1f6768aa0920de0d36128672bc
   "metadata": {
    "collapsed": true
   },
   "outputs": [],
   "source": [
    "#matrix factorization\n",
    "import pandas as pd\n",
    "import numpy as np\n",
    "import implicit as im\n",
    "from scipy.sparse import csr_matrix\n",
    "import random"
   ]
  },
  {
   "cell_type": "code",
   "execution_count": 2,
   "metadata": {
    "collapsed": true
   },
   "outputs": [],
   "source": [
    "#read data\n",
    "proc_dir = \"../data/processed\"\n",
    "\n",
    "customers = pd.read_csv(proc_dir+\"/customers.csv\")\n",
    "customers = customers['user']\n",
    "games = pd.read_csv(proc_dir+\"/games.csv\")\n",
    "games = games['game']\n",
    "hours = pd.read_csv(proc_dir+\"/hours.csv\")\n",
    "hours = hours[['userIndex', 'gameID', 'hours']]"
   ]
  },
  {
   "cell_type": "code",
   "execution_count": 138,
   "metadata": {},
   "outputs": [],
   "source": [
    "def getPopularSampleData(users, items, ratings, size, rseed=43):\n",
    "    #create list of popular items\n",
    "    ratings['userIndex'] = pd.to_numeric(ratings['userIndex'])\n",
    "    itemsGrouped = ratings.groupby('gameID', as_index=False).agg({\"hours\": \"count\"})\n",
    "    popularItems = itemsGrouped[itemsGrouped.hours > 50]\n",
    "    popularItems = popularItems['gameID']\n",
    "    random.seed(rseed)\n",
    "    randomSampleItems = map(int, random.sample(popularItems,size))\n",
    "    #get all users who rated this item\n",
    "    userRatedItems = ratings[ratings.gameID.isin(randomSampleItems)]\n",
    "    sampleUsers = map(int, userRatedItems['userIndex'].unique())\n",
    "    #return sample users and items\n",
    "    return sampleUsers, randomSampleItems, userRatedItems\n",
    "\n",
    "def getTrainTestData(ratings, percent=.2, rseed=43):\n",
    "    random.seed(rseed)\n",
    "    testCount = int(len(ratings)*percent)\n",
    "    testRows = random.sample(range(0,len(ratings)-1),testCount)\n",
    "    trainRatings = pd.DataFrame(columns=['userIndex','gameID','hours'])\n",
    "    testRatings = pd.DataFrame(columns=['userIndex','gameID','hours'])\n",
    "    ind=0\n",
    "    for index, row in ratings.iterrows():\n",
    "        if(ind in testRows):\n",
    "            testRatings = testRatings.append({'userIndex':row['userIndex'],\n",
    "                                              'gameID':row['gameID'],\n",
    "                                              'hours':row['hours']}, ignore_index=True)\n",
    "        else:\n",
    "            trainRatings = trainRatings.append({'userIndex':row['userIndex'],\n",
    "                                                'gameID':row['gameID'],\n",
    "                                                'hours':row['hours']}, ignore_index=True)\n",
    "        ind=ind+1\n",
    "    return trainRatings, testRatings\n",
    "\n",
    "def squaredError(users, items, R, testRatings):\n",
    "    error=0\n",
    "    for index, row in testRatings.iterrows():\n",
    "        error+=(R[users.index(row['userIndex'])][items.index(row['gameID'])]-row['hours'])**2\n",
    "    return error\n",
    "\n",
    "def column(matrix, i):\n",
    "    return [row[i] for row in matrix]\n",
    "\n",
    "def correctRecommendations(users, model, matrix, testRatings, topK=10):\n",
    "    recommended=0\n",
    "    missed=0\n",
    "    for index, row in testRatings.iterrows():\n",
    "        topRecommends = column(model.recommend(users.index(row['userIndex']), matrix, topK),0)\n",
    "        if(row['gameID'] in topRecommends):\n",
    "            recommended+=1\n",
    "        else:\n",
    "            missed+=1\n",
    "    return recommended, missed"
   ]
  },
  {
   "cell_type": "code",
   "execution_count": 133,
   "metadata": {},
   "outputs": [
    {
     "name": "stdout",
     "output_type": "stream",
     "text": [
      "train ratings: 7749\n",
      "test ratings: 1937\n"
     ]
    }
   ],
   "source": [
    "#get the random sample with designated size\n",
    "users, items, ratings = getPopularSampleData(customers, games, hours, 75, 43)\n",
    "#get train and test data\n",
    "trainRatings, testRatings = getTrainTestData(ratings)\n",
    "print 'train ratings:', len(trainRatings)\n",
    "print 'test ratings:', len(testRatings)"
   ]
  },
  {
   "cell_type": "code",
   "execution_count": 134,
   "metadata": {},
   "outputs": [
    {
     "name": "stdout",
     "output_type": "stream",
     "text": [
      "(75, 3270)\n"
     ]
    }
   ],
   "source": [
    "#create sparse train matrix games by customers with ratings - hours\n",
    "M=np.zeros((len(items),len(users)))\n",
    "\n",
    "for index, row in trainRatings.iterrows():\n",
    "    M[items.index(row['gameID'])][users.index(row['userIndex'])]=row['hours']\n",
    "\n",
    "M = csr_matrix(M)\n",
    "\n",
    "print M.shape"
   ]
  },
  {
   "cell_type": "code",
   "execution_count": 143,
   "metadata": {},
   "outputs": [
    {
     "name": "stderr",
     "output_type": "stream",
     "text": [
      "100%|██████████| 2000.0/2000 [00:17<00:00, 89.04it/s] "
     ]
    },
    {
     "name": "stdout",
     "output_type": "stream",
     "text": [
      "[(24, 0.38004065), (39, 0.33562121), (20, 0.32220578), (51, 0.31440532), (68, 0.24475956), (42, 0.23296246), (8, 0.22720501), (15, 0.22421463), (47, 0.21951853), (31, 0.20857909)]\n"
     ]
    },
    {
     "name": "stderr",
     "output_type": "stream",
     "text": [
      "\n"
     ]
    }
   ],
   "source": [
    "#matrix factorization model\n",
    "model = im.als.AlternatingLeastSquares(factors=15,iterations=2000, regularization=.01)\n",
    "model.fit(M)\n",
    "\n",
    "#factored U users and V items matrices\n",
    "U = model.user_factors\n",
    "V = model.item_factors\n",
    "\n",
    "user_games = M.T.tocsr()\n",
    "recommendations = model.recommend(3, user_games,10)\n",
    "print recommendations"
   ]
  },
  {
   "cell_type": "code",
   "execution_count": 144,
   "metadata": {},
   "outputs": [
    {
     "name": "stdout",
     "output_type": "stream",
     "text": [
      "U (3270, 15) , V (75, 15) , R (3270, 75)\n"
     ]
    }
   ],
   "source": [
    "#learned recommendations\n",
    "R = np.matmul(U,np.transpose(V))\n",
    "\n",
    "print 'U', U.shape, ',', 'V', V.shape, ',', 'R', R.shape"
   ]
  },
  {
   "cell_type": "code",
   "execution_count": 145,
   "metadata": {},
   "outputs": [
    {
     "name": "stdout",
     "output_type": "stream",
     "text": [
      "71260287.6294\n",
      "(118, 1819)\n"
     ]
    }
   ],
   "source": [
    "#get accuracy from test data\n",
    "print squaredError(users, items, R, testRatings)\n",
    "print correctRecommendations(users, model, user_games, testRatings, 10)"
   ]
  },
  {
   "cell_type": "code",
   "execution_count": null,
   "metadata": {
    "collapsed": true
   },
   "outputs": [],
   "source": []
  }
 ],
 "metadata": {
  "kernelspec": {
   "display_name": "Python 3",
   "language": "python",
   "name": "python3"
  },
  "language_info": {
   "codemirror_mode": {
    "name": "ipython",
    "version": 3
   },
   "file_extension": ".py",
   "mimetype": "text/x-python",
   "name": "python",
   "nbconvert_exporter": "python",
   "pygments_lexer": "ipython3",
   "version": "3.6.3"
  }
 },
 "nbformat": 4,
 "nbformat_minor": 2
}
